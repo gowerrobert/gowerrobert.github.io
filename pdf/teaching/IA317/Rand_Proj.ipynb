{
 "cells": [
  {
   "cell_type": "markdown",
   "metadata": {},
   "source": [
    "# LAB: Random Projections : SOLUTIONS"
   ]
  },
  {
   "cell_type": "markdown",
   "metadata": {},
   "source": [
    "\n",
    "#### Authors: R. M. Gower\n",
    "\n",
    "## Aim\n",
    "\n",
    "The aim of this material is to\n",
    "- to show that in practice dimension reduction can be used with no loss of accuracy on some problem\n",
    "- code efficient sparse random projections\n",
    "- apply sparse random projections together with knearestneighbors\n",
    "\n",
    "\n",
    "## VERY IMPORTANT\n",
    "\n",
    "- This work **must be done by pairs of students**.\n",
    "- Each paris of students must send their jupyter notebook **before the 24th of November at 21:59** to **gowerrobert@gmail.com**\n",
    "- The **name of the file must be** constructed as in the next cell\n",
    "\n",
    "# Gentle reminder: no evaluation if you don't respect this EXACTLY\n",
    "\n",
    "### How to construct the name of your file"
   ]
  },
  {
   "cell_type": "code",
   "execution_count": 2,
   "metadata": {},
   "outputs": [
    {
     "name": "stdout",
     "output_type": "stream",
     "text": [
      "lab1_gower_robert_and_bianchi_pascal.ipynb\n"
     ]
    }
   ],
   "source": [
    "# Change here using YOUR first and last names\n",
    "fn1 = \"robert\"\n",
    "ln1 = \"gower\"\n",
    "fn2 = \"pascal\"\n",
    "ln2 = \"bianchi\"\n",
    "\n",
    "filename = \"_\".join(map(lambda s: s.strip().lower(), \n",
    "                        [\"lab1\", ln1, fn1, \"and\", ln2, fn2])) + \".ipynb\"\n",
    "print(filename)"
   ]
  },
  {
   "cell_type": "code",
   "execution_count": 3,
   "metadata": {},
   "outputs": [],
   "source": [
    "#Throughout the notebook you will find commented boxes like this one\n",
    "\n",
    "### TODO ###   \n",
    "# please implement blabla\n",
    "#############"
   ]
  },
  {
   "cell_type": "markdown",
   "metadata": {},
   "source": [
    "These boxes need to be replaced by code as explained in the boxes.\n",
    "Solutions will online tomorrow. Good luck!"
   ]
  },
  {
   "cell_type": "code",
   "execution_count": 4,
   "metadata": {},
   "outputs": [],
   "source": [
    "%matplotlib inline"
   ]
  },
  {
   "cell_type": "code",
   "execution_count": 5,
   "metadata": {},
   "outputs": [],
   "source": [
    "import numpy as np\n",
    "from scipy.linalg import norm\n",
    "import matplotlib.pyplot as plt"
   ]
  },
  {
   "cell_type": "code",
   "execution_count": 6,
   "metadata": {},
   "outputs": [],
   "source": [
    "from sklearn.datasets import load_svmlight_file\n",
    "from sklearn.model_selection import train_test_split\n",
    "from sklearn.linear_model import LogisticRegression    #Logistic Regression\n",
    "from sklearn.neighbors import KNeighborsClassifier \n",
    "\n",
    "def get_data(dataname):\n",
    "    data = load_svmlight_file(dataname)\n",
    "    return data[0], data[1]"
   ]
  },
  {
   "cell_type": "markdown",
   "metadata": {},
   "source": [
    "## EXERCISE 1: \n",
    "\n",
    "Use LogisticRegression classifier of Scikit-learn to experimentally confirm the following corollary proven in class and test random sparse projections\n",
    "\n",
    "### Corollary of Range Space Preserving Theorem  \n",
    "\n",
    "Let \n",
    "$$ X^\\top = [x_1, \\ldots, x_n]\\in \\mathbb{R}^{n\\times d},$$\n",
    "be our data matrix and let\n",
    "$$  X X^\\top= [\\hat{x}_1, \\ldots, \\hat{x}_n]^\\top \\in \\mathbb{R}^{n\\times n}. $$\n",
    "We can find a solution to the following training problem\n",
    "$$ w^* \\in \\min_{w \\in \\mathbb{R}^d}  \\frac{1}{n}\\sum_{i=1}^n \\ell_i(\\langle x_i,w \\rangle) \\hspace{3cm} (I)$$\n",
    "by instead solving \n",
    "$$ \\hat{w}^* \\in \\min_{w \\in \\mathbb{R}^n}  \\frac{1}{n}\\sum_{i=1}^n \\ell_i(\\langle \\hat{x}_i,w \\rangle) \\hspace{3cm} (II)$$\n",
    "and  $ X ^\\top \\hat{w}^*$ is a solution to $(I)$\n",
    "\n",
    "**NOTE:** The matrix $X$ is transposed with respect to the data matrix defined in class and in the lectures ! Be careful with dimnensions!\n",
    "### End Corollary\n",
    "\n",
    "1) [2pts] Show that by setting the regularization parameter close to zero (C = 10^9) in LogisticRegression, the score obtained by training using $X$ and $XX^\\top$ is the same\n",
    "  \n",
    "2) [2pts] Compute a solution $w^*_1$  by directly solving (I).  Compare this $w^*_1$ to the recovered solution $X \\hat{w}^*$. Are they the same? Justify based on Corollary.\n",
    "\n",
    "3) [6pts] Using a random generated gaussian matrix $W \\in\\mathbb{R}^{d\\times r}$ , project the data matrix $X \\rightarrow XW$. Test for different values of r and\n",
    "apply logistic regression to the resulting projected matrix. Can you explain what you observe? "
   ]
  },
  {
   "cell_type": "code",
   "execution_count": 7,
   "metadata": {},
   "outputs": [
    {
     "name": "stdout",
     "output_type": "stream",
     "text": [
      "41 data points and 2000 features\n"
     ]
    }
   ],
   "source": [
    "# download the colon-cancer data set from \n",
    "# https://www.csie.ntu.edu.tw/~cjlin/libsvmtools/datasets/binary/colon-cancer.bz2\n",
    "# Unpack and place in the same folder as this python notebook\n",
    "dataname = \"colon-cancer\"  \n",
    "X, y = get_data(dataname)\n",
    "X_train, X_test, y_train, y_test = train_test_split(X, y, test_size=0.33, random_state=42)\n",
    "n, d = X_train.shape\n",
    "print('{n} data points and {d} features'.format(n = n,d =d))"
   ]
  },
  {
   "cell_type": "code",
   "execution_count": 9,
   "metadata": {},
   "outputs": [
    {
     "name": "stdout",
     "output_type": "stream",
     "text": [
      "Accuracy on the training set: 1.000\n",
      "Accuracy on the test set: 0.619\n"
     ]
    }
   ],
   "source": [
    "C0 = 10**9 # almost no regularization, since this is the inverse of the regularization parameter, i.e, C = 1/lambda\n",
    "log_reg = LogisticRegression(C = C0) # , multi_class = \"multinomial\"\n",
    "log_reg.fit(X_train, y_train)\n",
    "print('Accuracy on the training set: {:.3f}'.format(log_reg.score(X_train,y_train)))\n",
    "print('Accuracy on the test set: {:.3f}'.format(log_reg.score(X_test,y_test)))"
   ]
  },
  {
   "cell_type": "code",
   "execution_count": null,
   "metadata": {},
   "outputs": [],
   "source": [
    "### TODO ###   \n",
    "# 2)  Compute a solution $w^*_1$  by directly solving (I).  \n",
    "# Compare this $w^*_1$ to the recovered solution $X^\\top \\hat{w}^*$.\n",
    "# Are they the same? Justify based on Corollary.\n",
    "#############"
   ]
  },
  {
   "cell_type": "code",
   "execution_count": 12,
   "metadata": {},
   "outputs": [
    {
     "name": "stdout",
     "output_type": "stream",
     "text": [
      "project dimension    1 gives: (train, test) =  (0.0000, 0.0000)\n",
      "project dimension  201 gives: (train, test) =  (0.0000, 0.0000)\n",
      "project dimension  401 gives: (train, test) =  (0.0000, 0.0000)\n",
      "project dimension  601 gives: (train, test) =  (0.0000, 0.0000)\n",
      "project dimension  801 gives: (train, test) =  (0.0000, 0.0000)\n",
      "project dimension 1001 gives: (train, test) =  (0.0000, 0.0000)\n",
      "project dimension 1201 gives: (train, test) =  (0.0000, 0.0000)\n",
      "project dimension 1401 gives: (train, test) =  (0.0000, 0.0000)\n",
      "project dimension 1601 gives: (train, test) =  (0.0000, 0.0000)\n",
      "project dimension 1801 gives: (train, test) =  (0.0000, 0.0000)\n",
      "Best score was for r =    1 with: (train, test) =  (0.0000, 0.0000)\n"
     ]
    },
    {
     "data": {
      "image/png": "[encoded data removed]",
      "text/plain": [
       "<Figure size 432x288 with 1 Axes>"
      ]
     },
     "metadata": {
      "needs_background": "light"
     },
     "output_type": "display_data"
    }
   ],
   "source": [
    "### TODO ### \n",
    "## Choose a range of different projected dimensions to test\n",
    "## Suggested range of projected dimensions:\n",
    "upperbnd = d\n",
    "project_dimensions = range(1,upperbnd,int((upperbnd )/10))\n",
    "#############\n",
    "test_accuracy = []\n",
    "training_accuracy = []\n",
    "s = 20\n",
    "for r in project_dimensions: \n",
    "    ### TODO ###   \n",
    "    # 3)    project the data matrix $X \\rightarrow XW$ using Gaussian and fit, \n",
    "    #      transform and score using Logstic Regression\n",
    "    # trainscore =  ??\n",
    "    trainscore=0 # Change this!\n",
    "    training_accuracy.append(trainscore)\n",
    "    # testscore = ??\n",
    "    testscore=0# Change this!\n",
    "    test_accuracy.append(testscore)\n",
    "    #############\n",
    "    print (\"project dimension %4d gives: (train, test) =  (%.4f, %.4f)\" % (r, trainscore,testscore))\n",
    "# coef_recover= log_regt.coef_.dot(X_train.transpose())\n",
    "\n",
    "plt.plot(project_dimensions,training_accuracy, label='Accuracy of the training set')\n",
    "plt.plot(project_dimensions,test_accuracy, label='Accuracy of the test set')\n",
    "plt.ylabel('Accuracy')\n",
    "plt.xlabel('Projected Dimension')\n",
    "plt.legend()\n",
    "index_max = np.argmax(test_accuracy)\n",
    "print(\"Best score was for r =%5d with: (train, test) =  (%.4f, %.4f)\"% (project_dimensions[index_max], training_accuracy[index_max],test_accuracy[index_max]))"
   ]
  },
  {
   "cell_type": "markdown",
   "metadata": {},
   "source": [
    "## Exercise 2:\n",
    "\n",
    "In class we used \n",
    "$$ X \\rightarrow W^\\top X $$\n",
    "But here it is instead\n",
    "$$ X \\rightarrow X W $$\n",
    "\n",
    "\n",
    "\n",
    "Now we will train a model using a large text based data set. For this you need to code the following random transform $W \\in \\mathbb{R}^{d \\times r}$ that takes a sparsity parameter $s$ as an input and outputs a matrix\n",
    "\n",
    "$$ W_{ij}  = \\sqrt{\\frac{s}{r}}\n",
    "\\begin{cases}\n",
    "1 \\quad & \\mbox{with probability }\\frac{1}{2s} \\\\\n",
    "0 \\quad & \\mbox{with probability }1-\\frac{1}{s} \\\\\n",
    "-1 \\quad & \\mbox{with probability }\\frac{1}{2s} \n",
    "\\end{cases}$$\n",
    "\n",
    "* Code a function Generate_Sparse_Transform$(s,r,d)$ that takes an input  \n",
    "   * sparsity parameter  $s$\n",
    "   * input dimension $d \\in \\mathbb{N}$\n",
    "   * lower dimensional projected dimension $r \\in \\mathbb{N}$\n",
    "and gives as outputs the matrix $W$ stored in an efficient sparse format such as the CSC formart (see scipy.sparse.csc_matrix)\n",
    "\n",
    "* Code a function Apply_Sparse_Transform$(R,X)$ that takes an input\n",
    "   * the random transform $W$ as generated by  Generate\\_sparse\\_transform$(s,r,d)$\n",
    "   * a given data matrix $X \\in \\mathbb{R}^{n\\times d}$\n",
    "the output will be $XW$.\n",
    "\n",
    "\n",
    "*Note* if you have not implemented this efficiently, you will probably run out of memory!  \n",
    "\n",
    "\n",
    "We will test if random projections are able to preserve pairwise distances by applying K-Neighrest Neighbors to projected data.\n",
    "\n",
    "1) [6pts] Code the above two functions (their stub is provided below)\n",
    "\n",
    "\n",
    "2) [1pt] Load the data set X. Then fit, transform and score sklearn's KNeighborsClassifier on this data, where \n",
    "$X = $ {anthracyclineTaxaneChemotherapy, sector.scale}. Below you will find how to load this data.\n",
    "\n",
    "3) [3pts] Repeat the previous step, but first randomly project that data using X -> XW. Repeat this test for different values of the sparsity parameter s and projected dimension parameter r. What can you conclude? \n",
    "\n",
    "*Hint* As a rule of thumb $s = \\sqrt{r}$, $s= \\log(r)$ or simply $s=20$ often works well.\n"
   ]
  },
  {
   "cell_type": "code",
   "execution_count": 13,
   "metadata": {},
   "outputs": [],
   "source": [
    "import scipy\n",
    "from sklearn.utils.extmath import safe_sparse_dot   ## <-- I recommend using this function\n",
    "from sklearn.utils.random import sample_without_replacement  ## <-- I recommend using this function\n",
    "\n",
    "def GenerateSparseTransform(s,r,d):\n",
    "    ### TODO ### \n",
    "    ##  Implement this function. Make sure that W is a sparse matrix!\n",
    "    #############\n",
    "    W = 0\n",
    "    return W\n",
    "\n",
    "def ApplySparseTransform(W,X_):\n",
    "#     W   : Sparse randomly generated matrix of size d by r\n",
    "#     X_  : Data matrix to be compressed, of size n by d\n",
    "#    NOTE: The dimensions of W and X_ are such that the product X_*W is defined (which is different that what we used in class)\n",
    "    ### TODO ### \n",
    "    ##  Implement this function. Make sure that W is a sparse matrix!\n",
    "    #############\n",
    "    Xtransformed =0\n",
    "    return Xtransformed"
   ]
  },
  {
   "cell_type": "markdown",
   "metadata": {},
   "source": [
    "## Load and test easier data set *anthracyclineTaxaneChemotherapy*"
   ]
  },
  {
   "cell_type": "code",
   "execution_count": null,
   "metadata": {},
   "outputs": [],
   "source": [
    "from sklearn.datasets import fetch_openml\n",
    "chemo = fetch_openml(name='anthracyclineTaxaneChemotherapy')"
   ]
  },
  {
   "cell_type": "code",
   "execution_count": null,
   "metadata": {},
   "outputs": [],
   "source": [
    "X = chemo.data\n",
    "y = chemo.target"
   ]
  },
  {
   "cell_type": "markdown",
   "metadata": {},
   "source": [
    "### if fetch_openml fails  \n",
    "**ALTERNATIVE HACK for loading the data**\n",
    "  \n",
    "* downloard the data from data set in arff format from: https://www.openml.org/d/1085\n",
    " \n",
    "* place data in the same folder as this notebook and run the code in the next cell"
   ]
  },
  {
   "cell_type": "code",
   "execution_count": null,
   "metadata": {},
   "outputs": [],
   "source": [
    "## ALTERNATIVE HACK for loading anthracyclineTaxaneChemotherapy ## \n",
    "from scipy.io import arff\n",
    "dataset = arff.loadarff('phpCLGrjq.arff')\n",
    "import pandas as pd\n",
    "Xdf = pd.DataFrame(dataset[0])\n",
    "Xy = Xdf.as_matrix()\n",
    "n_rows, n_cols = Xy.shape\n",
    "X = Xy[:,:-1]\n",
    "X = np.float_(X)\n",
    "y = Xy[:,-1]\n",
    "y = (np.int_(y))*2-3"
   ]
  },
  {
   "cell_type": "code",
   "execution_count": null,
   "metadata": {},
   "outputs": [],
   "source": [
    "# split test and training. Only use 20% of data for testing because data set is small. \n",
    "X_train, X_test, y_train, y_test = train_test_split(X, y, test_size=0.20, random_state=42) \n",
    "n, d = X_train.shape\n",
    "print('{n} training data points and {d} features'.format(n = n,d =d))"
   ]
  },
  {
   "cell_type": "code",
   "execution_count": null,
   "metadata": {},
   "outputs": [],
   "source": [
    "# 2) fit, transform and score the knn Classifier\n",
    "n_neighbors =2 # <-- use this number of neighbours\n",
    "knn = KNeighborsClassifier(n_neighbors=n_neighbors)\n",
    "\n",
    "knn.fit(X_train,y_train)\n",
    "trainscore = knn.score(X_train, y_train)\n",
    "training_accuracy.append(trainscore)\n",
    "testscore = knn.score(X_test, y_test)\n",
    "test_accuracy.append(knn.score(X_test, y_test))\n",
    "print (\"project dim %5d gives: (train, test) =  (%.4f, %.4f)\" % (d, trainscore,testscore))"
   ]
  },
  {
   "cell_type": "code",
   "execution_count": null,
   "metadata": {},
   "outputs": [],
   "source": [
    "test_accuracy = []\n",
    "training_accuracy = []\n",
    "n_neighbors =2  #< -- I recommend 2 neighbors\n",
    "\n",
    "## Suggested range of projected dimensions:\n",
    "upperbnd = int(min(10*n,d/2))\n",
    "minbnd = int(max(n/20,d/2000))\n",
    "project_dimensions = range(minbnd,upperbnd,int((upperbnd -minbnd)/10))\n",
    "\n",
    "knn = KNeighborsClassifier(n_neighbors=n_neighbors)\n",
    "    \n",
    "for r in project_dimensions:  \n",
    "    W = GenerateSparseTransform(s =20, r= r,d = d) # function coded above\n",
    "    Xt_train = ApplySparseTransform(W,X_train)  # function coded above\n",
    "    Xt_test =  ApplySparseTransform(W,X_test)  # function coded above\n",
    "    knn.fit(Xt_train,y_train)\n",
    "    trainscore = knn.score(Xt_train, y_train)\n",
    "    training_accuracy.append(trainscore)\n",
    "    testscore = knn.score(Xt_test, y_test)\n",
    "    test_accuracy.append(knn.score(Xt_test, y_test))\n",
    "    print (\"project dim %5d gives: (train, test) =  (%.4f, %.4f)\" % (r, trainscore,testscore))\n",
    "\n",
    "list_proj_dims = list(project_dimensions)\n",
    "plt.plot(list_proj_dims,training_accuracy, label='Accuracy of the training set')\n",
    "plt.plot(list_proj_dims,test_accuracy, label='Accuracy of the test set')\n",
    "plt.ylabel('Accuracy')\n",
    "plt.xlabel('Projected Dimension')\n",
    "plt.legend()\n",
    "index_max = np.argmax(test_accuracy)\n",
    "print(\"Best score was for r =%5d with: (train, test) =  (%.4f, %.4f)\"% (list_proj_dims[index_max], training_accuracy[index_max],test_accuracy[index_max]))"
   ]
  },
  {
   "cell_type": "markdown",
   "metadata": {},
   "source": [
    "## Load and test HARDER data set *sector.scale*  \n",
    "**(only try this data set after successfully testing the anthracyclineTaxaneChemotherapy data set)**"
   ]
  },
  {
   "cell_type": "code",
   "execution_count": null,
   "metadata": {},
   "outputs": [],
   "source": [
    "# Download the data set from:\n",
    "# https://www.csie.ntu.edu.tw/~cjlin/libsvmtools/datasets/multiclass/sector/sector.scale.bz2\n",
    "# place data in the same folder as this python notebook\n",
    "dataname = \"sector.scale\"  \n",
    "X, y = get_data(dataname)\n",
    "n, d = X.shape\n",
    "print('{n} data points and {d} features'.format(n = n,d =d))"
   ]
  },
  {
   "cell_type": "code",
   "execution_count": null,
   "metadata": {},
   "outputs": [],
   "source": [
    "# split test and training \n",
    "X_train, X_test, y_train, y_test = train_test_split(X, y, test_size=0.33, random_state=42)\n",
    "n, d = X_train.shape\n",
    "print('{n} trainig data points and {d} features'.format(n = n,d =d))"
   ]
  },
  {
   "cell_type": "code",
   "execution_count": null,
   "metadata": {},
   "outputs": [],
   "source": [
    "### TODO ### \n",
    "## repeat the same experiments for this larger data set\n",
    "## HINT: Only test project dimensions r <= int(min(2*n,d/2))\n",
    "#############"
   ]
  },
  {
   "cell_type": "code",
   "execution_count": null,
   "metadata": {},
   "outputs": [],
   "source": [
    "test_accuracy = []\n",
    "training_accuracy = []\n",
    "n_neighbors =1   ## <-- I recommend using this\n",
    "knn = KNeighborsClassifier(n_neighbors=n_neighbors)\n",
    "    \n",
    "for r in project_dimensions:  \n",
    "    ### TODO ###   \n",
    "    # 3)    project the data matrix $X \\rightarrow XW$ using Gaussian and fit, \n",
    "    #      transform and score using knn\n",
    "    # W = GenerateSparseTransform(???)\n",
    "    # Xt_train = ApplySparseTransform(W,X_train)\n",
    "    # Xt_test =  ApplySparseTransform(W,X_test)\n",
    "    # trainscore =  ??\n",
    "    # training_accuracy.append(trainscore)\n",
    "    # testscore = ??\n",
    "    # test_accuracy.append(testscore)\n",
    "    #############\n",
    "    print (\"project dim %5d gives: (train, test) =  (%.4f, %.4f)\" % (r, trainscore,testscore))\n",
    "\n",
    "list_proj_dims = list(project_dimensions)\n",
    "plt.plot(list_proj_dims,training_accuracy, label='Accuracy of the training set')\n",
    "plt.plot(list_proj_dims,test_accuracy, label='Accuracy of the test set')\n",
    "plt.ylabel('Accuracy')\n",
    "plt.xlabel('Projected Dimension')\n",
    "plt.legend()\n",
    "index_max = np.argmax(test_accuracy)\n",
    "print(\"Best score was for r =%5d with: (train, test) =  (%.4f, %.4f)\"% (list_proj_dims[index_max], training_accuracy[index_max],test_accuracy[index_max]))"
   ]
  },
  {
   "cell_type": "markdown",
   "metadata": {},
   "source": [
    "## Bonus question\n",
    "\n",
    "Using the Jonhson-Lindenstrauss Lemma, we can have an estimate for the projected dimension using\n",
    "\n",
    "$$r = \\frac{1}{\\epsilon^2}\\log(n/\\delta) $$\n",
    "\n",
    "1) Write a function for calculating this given suggested project dimension r. \n",
    "2) Test for each of the above data sets with \\epsilon = 0.05 = \\delta and compare to your results. "
   ]
  }
 ],
 "metadata": {
  "anaconda-cloud": {},
  "kernelspec": {
   "display_name": "Python 3",
   "language": "python",
   "name": "python3"
  },
  "language_info": {
   "codemirror_mode": {
    "name": "ipython",
    "version": 3
   },
   "file_extension": ".py",
   "mimetype": "text/x-python",
   "name": "python",
   "nbconvert_exporter": "python",
   "pygments_lexer": "ipython3",
   "version": "3.6.8"
  }
 },
 "nbformat": 4,
 "nbformat_minor": 1
}
